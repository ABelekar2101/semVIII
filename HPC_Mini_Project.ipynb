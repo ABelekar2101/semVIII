{
 "cells": [
  {
   "cell_type": "markdown",
   "id": "79a6524a",
   "metadata": {},
   "source": [
    "## Import Libraries"
   ]
  },
  {
   "cell_type": "code",
   "execution_count": 1,
   "id": "45a00720",
   "metadata": {},
   "outputs": [],
   "source": [
    "from mpi4py import MPI\n",
    "import numpy as np"
   ]
  },
  {
   "cell_type": "markdown",
   "id": "f6789db2",
   "metadata": {},
   "source": [
    "## Basic setup"
   ]
  },
  {
   "cell_type": "code",
   "execution_count": 2,
   "id": "3ce6882b",
   "metadata": {},
   "outputs": [],
   "source": [
    "comm = MPI.COMM_WORLD\n",
    "rank = comm.Get_rank()\n",
    "size = comm.Get_size()"
   ]
  },
  {
   "cell_type": "markdown",
   "id": "4422e800",
   "metadata": {},
   "source": [
    "## Simple Sequential Quicksort"
   ]
  },
  {
   "cell_type": "code",
   "execution_count": 3,
   "id": "427b685a",
   "metadata": {},
   "outputs": [],
   "source": [
    "def sequential_quicksort(arr):\n",
    "    if len(arr) <= 1:\n",
    "        return arr\n",
    "    else:\n",
    "        pivot = arr[0]\n",
    "        left = [x for x in arr[1:] if x <= pivot]\n",
    "        right = [x for x in arr[1:] if x > pivot]\n",
    "        return sequential_quicksort(left) + [pivot] + sequential_quicksort(right)"
   ]
  },
  {
   "cell_type": "markdown",
   "id": "8b54c9df",
   "metadata": {},
   "source": [
    "## Parallel Sequential Quicksort"
   ]
  },
  {
   "cell_type": "code",
   "execution_count": 4,
   "id": "01dac181",
   "metadata": {},
   "outputs": [],
   "source": [
    "def parallel_quicksort(arr):\n",
    "    if len(arr) <= 1:\n",
    "        return arr\n",
    "    else:\n",
    "        pivot = arr[0]\n",
    "        left = [x for x in arr[1:] if x <= pivot]\n",
    "        right = [x for x in arr[1:] if x > pivot]\n",
    "\n",
    "        # Distribute sub-arrays to different processors\n",
    "        left_sub_arr = np.array_split(left, size)\n",
    "        right_sub_arr = np.array_split(right, size)\n",
    "\n",
    "        # Scatter sub-arrays to different processors\n",
    "        left_sub_arr = comm.scatter(left_sub_arr, root=0)\n",
    "        right_sub_arr = comm.scatter(right_sub_arr, root=0)\n",
    "     # Perform sequential Quicksort on sub-arrays\n",
    "        left_sub_arr = sequential_quicksort(left_sub_arr)\n",
    "        right_sub_arr = sequential_quicksort(right_sub_arr)\n",
    "        # Gather sorted sub-arrays from different processors\n",
    "        sorted_left = comm.gather(left_sub_arr, root=0)\n",
    "        sorted_right = comm.gather(right_sub_arr, root=0)\n",
    "        if rank == 0:\n",
    "            # Merge sorted sub-arrays\n",
    "            sorted_left = np.concatenate(sorted_left)\n",
    "            sorted_right = np.concatenate(sorted_right)\n",
    "            return np.concatenate((sorted_left, [pivot], sorted_right))"
   ]
  },
  {
   "cell_type": "markdown",
   "id": "b357232e",
   "metadata": {},
   "source": [
    "## Main Code"
   ]
  },
  {
   "cell_type": "code",
   "execution_count": null,
   "id": "7abd57d0",
   "metadata": {},
   "outputs": [],
   "source": [
    "if rank == 0:\n",
    "    # Generate random array of integers\n",
    "    arr = np.random.randint(0, 10000, size=1000000)\n",
    "\n",
    "    # Measure time required for sequential Quicksort\n",
    "    seq_start_time = MPI.Wtime()\n",
    "    sorted_arr_seq = sequential_quicksort(arr)\n",
    "    seq_end_time = MPI.Wtime()\n",
    "    seq_time = seq_end_time - seq_start_time\n",
    "\n",
    "    # Measure time required for parallel Quicksort\n",
    "    par_start_time = MPI.Wtime()\n",
    "    sorted_arr_par = parallel_quicksort(arr)\n",
    "    par_end_time = MPI.Wtime()\n",
    "    par_time = par_end_time - par_start_time\n",
    "\n",
    "    # Check if sorted arrays match\n",
    "    assert np.array_equal(sorted_arr_seq, sorted_arr_par)\n",
    "\n",
    "    # Print time required for sequential Quicksort and parallel Quicksort\n",
    "    print(f\"Time required for sequential Quicksort: {seq_time:.6f} seconds\")\n",
    "    print(f\"Time required for parallel Quicksort: {par_time:.6f} seconds\")\n",
    "    \n",
    "MPI.Finalize()"
   ]
  },
  {
   "cell_type": "code",
   "execution_count": null,
   "id": "e64158b9",
   "metadata": {},
   "outputs": [],
   "source": []
  }
 ],
 "metadata": {
  "kernelspec": {
   "display_name": "Python 3 (ipykernel)",
   "language": "python",
   "name": "python3"
  },
  "language_info": {
   "codemirror_mode": {
    "name": "ipython",
    "version": 3
   },
   "file_extension": ".py",
   "mimetype": "text/x-python",
   "name": "python",
   "nbconvert_exporter": "python",
   "pygments_lexer": "ipython3",
   "version": "3.9.6"
  }
 },
 "nbformat": 4,
 "nbformat_minor": 5
}
