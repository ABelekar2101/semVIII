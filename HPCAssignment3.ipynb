{
  "nbformat": 4,
  "nbformat_minor": 0,
  "metadata": {
    "colab": {
      "provenance": []
    },
    "kernelspec": {
      "name": "python3",
      "display_name": "Python 3"
    },
    "language_info": {
      "name": "python"
    },
    "accelerator": "GPU",
    "gpuClass": "standard"
  },
  "cells": [
    {
      "cell_type": "code",
      "source": [
        "!nvcc --version"
      ],
      "metadata": {
        "colab": {
          "base_uri": "https://localhost:8080/"
        },
        "id": "9eqRBuS8wXaO",
        "outputId": "feaed709-8986-477d-bcf5-f80eb4555bd4"
      },
      "execution_count": 1,
      "outputs": [
        {
          "output_type": "stream",
          "name": "stdout",
          "text": [
            "nvcc: NVIDIA (R) Cuda compiler driver\n",
            "Copyright (c) 2005-2022 NVIDIA Corporation\n",
            "Built on Wed_Sep_21_10:33:58_PDT_2022\n",
            "Cuda compilation tools, release 11.8, V11.8.89\n",
            "Build cuda_11.8.r11.8/compiler.31833905_0\n"
          ]
        }
      ]
    },
    {
      "cell_type": "code",
      "source": [
        "!pip install git+https://github.com/andreinechaev/nvcc4jupyter.git"
      ],
      "metadata": {
        "id": "KsZNdotzxK3G",
        "colab": {
          "base_uri": "https://localhost:8080/"
        },
        "outputId": "29fc5e6f-995c-47eb-b707-d39b10f821ea"
      },
      "execution_count": 2,
      "outputs": [
        {
          "output_type": "stream",
          "name": "stdout",
          "text": [
            "Looking in indexes: https://pypi.org/simple, https://us-python.pkg.dev/colab-wheels/public/simple/\n",
            "Collecting git+https://github.com/andreinechaev/nvcc4jupyter.git\n",
            "  Cloning https://github.com/andreinechaev/nvcc4jupyter.git to /tmp/pip-req-build-gq2n8h0y\n",
            "  Running command git clone --filter=blob:none --quiet https://github.com/andreinechaev/nvcc4jupyter.git /tmp/pip-req-build-gq2n8h0y\n",
            "  Resolved https://github.com/andreinechaev/nvcc4jupyter.git to commit aac710a35f52bb78ab34d2e52517237941399eff\n",
            "  Preparing metadata (setup.py) ... \u001b[?25l\u001b[?25hdone\n",
            "Building wheels for collected packages: NVCCPlugin\n",
            "  Building wheel for NVCCPlugin (setup.py) ... \u001b[?25l\u001b[?25hdone\n",
            "  Created wheel for NVCCPlugin: filename=NVCCPlugin-0.0.2-py3-none-any.whl size=4287 sha256=a88b353c62cbc0c057b0ea1c8631b1c6d08a12b4bcb590f05bf64982391c4f55\n",
            "  Stored in directory: /tmp/pip-ephem-wheel-cache-2zosh6co/wheels/a8/b9/18/23f8ef71ceb0f63297dd1903aedd067e6243a68ea756d6feea\n",
            "Successfully built NVCCPlugin\n",
            "Installing collected packages: NVCCPlugin\n",
            "Successfully installed NVCCPlugin-0.0.2\n"
          ]
        }
      ]
    },
    {
      "cell_type": "code",
      "source": [
        "%load_ext nvcc_plugin"
      ],
      "metadata": {
        "colab": {
          "base_uri": "https://localhost:8080/"
        },
        "id": "zHbQOIXjxT_d",
        "outputId": "1547618f-0d11-417d-ebf0-a38e503638fe"
      },
      "execution_count": 3,
      "outputs": [
        {
          "output_type": "stream",
          "name": "stdout",
          "text": [
            "created output directory at /content/src\n",
            "Out bin /content/result.out\n"
          ]
        }
      ]
    },
    {
      "metadata": {
        "id": "lIZUi6Qxp4-t",
        "outputId": "9734486a-cf4a-47cf-aae0-fce8dd5118f0",
        "colab": {
          "base_uri": "https://localhost:8080/"
        }
      },
      "cell_type": "code",
      "source": [
        "%%cu\n",
        "\n",
        "        \n",
        "#include<iostream>\n",
        "#include<cstdio>\n",
        "#include<cstdlib>\n",
        "#include<cuda_runtime.h>\n",
        "using namespace std;\n",
        "\n",
        "\n",
        "__global__ void minimum(int *input)\n",
        "{\n",
        "\tint tid=threadIdx.x;\n",
        "\tauto step_size=1;\n",
        "  int number_of_threads=blockDim.x;\n",
        "  \n",
        "  while(number_of_threads>0)\n",
        "  {\n",
        "      if(tid<number_of_threads)\n",
        "      {\n",
        "          int first=tid*step_size*2;\n",
        "          int second=first+step_size;\n",
        "          if(input[second]<input[first])\n",
        "            input[first]=input[second];\n",
        "      }\n",
        "      step_size=step_size*2;\n",
        "      number_of_threads/=2;\n",
        "  }\n",
        "\n",
        "}\n",
        "\n",
        "__global__ void max(int *input)\n",
        "{\n",
        "   int tid=threadIdx.x;\n",
        "   auto step_size=1;\n",
        "   int number_of_threads=blockDim.x;\n",
        "   \n",
        "   while(number_of_threads>0)\n",
        "   {\n",
        "       if(tid<number_of_threads)\n",
        "       {\n",
        "           int first=tid*step_size*2;\n",
        "           int second=first+step_size;\n",
        "           if(input[second]>input[first])\n",
        "            input[first]=input[second];\n",
        "       }\n",
        "       step_size*=2;\n",
        "       number_of_threads/=2;\n",
        "   }\n",
        "}\n",
        "\n",
        "__global__ void sum(int *input)\n",
        "{\n",
        "    const int tid=threadIdx.x;\n",
        "    auto  step_size=1;\n",
        "    int number_of_threads=blockDim.x;\n",
        "    while(number_of_threads>0)\n",
        "    {\n",
        "        if(tid<number_of_threads)\n",
        "        {\n",
        "            const int first=tid*step_size*2;\n",
        "            const int second=first+step_size;\n",
        "            input[first]=input[first]+input[second];\n",
        "        }\n",
        "    step_size = step_size*2;; \n",
        "\t\tnumber_of_threads =number_of_threads/2;\n",
        "    }\n",
        "}\n",
        "\n",
        "__global__ void average(int *input) //You can use above sum() to calculate sum and divide it by num_of_elememts\n",
        "{\n",
        "    const int tid=threadIdx.x;\n",
        "    auto  step_size=1;\n",
        "    int number_of_threads=blockDim.x;\n",
        "    int totalElements=number_of_threads*2;\n",
        "    while(number_of_threads>0)\n",
        "    {\n",
        "        if(tid<number_of_threads)\n",
        "        {\n",
        "            const int first=tid*step_size*2;\n",
        "            const int second=first+step_size;\n",
        "            input[first]=input[first]+input[second];\n",
        "        }\n",
        "        step_size = step_size*2;; \n",
        "\t\tnumber_of_threads =number_of_threads/2;\n",
        "    }\n",
        "    input[0]=input[0]/totalElements;\n",
        "}\n",
        "\n",
        "int main()\n",
        "{\n",
        "\n",
        "\tcout<<\"Enter the no of elements\"<<endl;\n",
        "\tint n;\n",
        "\tn=20;\n",
        "  srand(n);\n",
        "\tint *arr=new int[n];\n",
        "  int min=10;\n",
        "   //# Generate Input array using rand()\n",
        "\tfor(int i=0;i<n;i++)\n",
        "\t{\n",
        "\t\tarr[i]=rand()%10;\n",
        "      if(arr[i]<min)\n",
        "        min=arr[i];\n",
        "    cout<<arr[i]<<\" \";\n",
        "\t}\n",
        "\n",
        "\tint size=n*sizeof(int); //calculate no. of bytes for array\n",
        "\tint *arr_d,result1;\n",
        "\t\n",
        "  //# Allocate memory for min Operation\n",
        "\tcudaMalloc(&arr_d,size);\n",
        "\tcudaMemcpy(arr_d,arr,size,cudaMemcpyHostToDevice);\n",
        "\n",
        "  minimum<<<1,n/2>>>(arr_d);\n",
        "\n",
        "\tcudaMemcpy(&result1,arr_d,sizeof(int),cudaMemcpyDeviceToHost);\n",
        "\n",
        "\tcout<<\"The minimum element is \\n \"<<result1<<endl;\n",
        "  \n",
        "  cout<<\"The min element (using CPU) is \\n\"<<min;\n",
        "   \n",
        "    \n",
        "  //#MAX OPERATION \n",
        "  int *arr_max,maxValue;\n",
        "  cudaMalloc(&arr_max,size);\n",
        "\tcudaMemcpy(arr_max,arr,size,cudaMemcpyHostToDevice);\n",
        "\n",
        "  max<<<1,n/2>>>(arr_max);\n",
        "\n",
        "\tcudaMemcpy(&maxValue,arr_max,sizeof(int),cudaMemcpyDeviceToHost);\n",
        "\n",
        "\tcout<<\"The maximum element is \\n \"<<maxValue<<endl;\n",
        "    \n",
        "  //#SUM OPERATION \n",
        "  int *arr_sum,sumValue;\n",
        "  cudaMalloc(&arr_sum,size);\n",
        "\tcudaMemcpy(arr_sum,arr,size,cudaMemcpyHostToDevice);\n",
        "\n",
        "  sum<<<1,n/2>>>(arr_sum);\n",
        "\n",
        "\tcudaMemcpy(&sumValue,arr_sum,sizeof(int),cudaMemcpyDeviceToHost);\n",
        "\n",
        "\tcout<<\"The sum of elements is \\n \"<<sumValue<<endl; \n",
        "   \n",
        "  cout<<\"The average of elements is \\n \"<<(sumValue/n)<<endl; \n",
        "  \n",
        "  //# OR-----------\n",
        "   \n",
        "  //#AVG OPERATION \n",
        "  int *arr_avg,avgValue;\n",
        "  cudaMalloc(&arr_avg,size);\n",
        "\tcudaMemcpy(arr_avg,arr,size,cudaMemcpyHostToDevice);\n",
        "\n",
        "  average<<<1,n/2>>>(arr_avg);\n",
        "\n",
        "\tcudaMemcpy(&avgValue,arr_avg,sizeof(int),cudaMemcpyDeviceToHost);\n",
        "\n",
        "\tcout<<\"The average of elements is \\n \"<<avgValue<<endl; \n",
        "  \n",
        "   \n",
        "  //# Free all allcated device memeory\n",
        "   cudaFree(arr_d);\n",
        "   cudaFree(arr_sum);\n",
        "   cudaFree(arr_max);\n",
        "   cudaFree(arr_avg);\n",
        "    \n",
        "    \n",
        " \n",
        "\n",
        "return 0;\n",
        "\n",
        "}"
      ],
      "execution_count": 4,
      "outputs": [
        {
          "output_type": "stream",
          "name": "stdout",
          "text": [
            "Enter the no of elements\n",
            "1 8 7 9 6 1 2 1 0 1 0 4 7 9 4 9 5 7 9 9 The minimum element is \n",
            " 0\n",
            "The min element (using CPU) is \n",
            "0The maximum element is \n",
            " 9\n",
            "The sum of elements is \n",
            " 69\n",
            "The average of elements is \n",
            " 3\n",
            "The average of elements is \n",
            " 3\n",
            "\n"
          ]
        }
      ]
    },
    {
      "cell_type": "code",
      "source": [],
      "metadata": {
        "id": "QktpwcO1y-F-"
      },
      "execution_count": 4,
      "outputs": []
    }
  ]
}